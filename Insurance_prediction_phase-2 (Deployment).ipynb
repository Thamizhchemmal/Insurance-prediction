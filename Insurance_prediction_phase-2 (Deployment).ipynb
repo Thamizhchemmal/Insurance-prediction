{
 "cells": [
  {
   "cell_type": "code",
   "execution_count": 1,
   "metadata": {},
   "outputs": [],
   "source": [
    "import pickle"
   ]
  },
  {
   "cell_type": "code",
   "execution_count": 2,
   "metadata": {},
   "outputs": [],
   "source": [
    "loaded_model = pickle.load(open('Insurance_prediction_SVM.sav','rb'))"
   ]
  },
  {
   "cell_type": "code",
   "execution_count": 3,
   "metadata": {},
   "outputs": [
    {
     "name": "stdout",
     "output_type": "stream",
     "text": [
      "Age:78\n",
      "BMI:34\n",
      "No. of Children:7\n",
      "Gender (M or F) - 0 or 1:0\n",
      "Smoker or Non-Smoker - 0 or 1:1\n"
     ]
    }
   ],
   "source": [
    "#Getting Inputs from the User\n",
    "rd=float(input(\"Age:\"))\n",
    "admin=float(input('BMI:'))\n",
    "mark=float(input('No. of Children:'))\n",
    "flo=float(input(\"Gender (M or F) - 0 or 1:\"))\n",
    "new=float(input(\"Smoker or Non-Smoker - 0 or 1:\"))"
   ]
  },
  {
   "cell_type": "code",
   "execution_count": 4,
   "metadata": {},
   "outputs": [
    {
     "data": {
      "text/plain": [
       "array([63770.42801])"
      ]
     },
     "execution_count": 4,
     "metadata": {},
     "output_type": "execute_result"
    }
   ],
   "source": [
    "result=loaded_model.predict([[rd,admin,mark,flo,new]])\n",
    "result"
   ]
  },
  {
   "cell_type": "code",
   "execution_count": null,
   "metadata": {},
   "outputs": [],
   "source": []
  }
 ],
 "metadata": {
  "kernelspec": {
   "display_name": "Python 3",
   "language": "python",
   "name": "python3"
  },
  "language_info": {
   "codemirror_mode": {
    "name": "ipython",
    "version": 3
   },
   "file_extension": ".py",
   "mimetype": "text/x-python",
   "name": "python",
   "nbconvert_exporter": "python",
   "pygments_lexer": "ipython3",
   "version": "3.7.4"
  }
 },
 "nbformat": 4,
 "nbformat_minor": 2
}
